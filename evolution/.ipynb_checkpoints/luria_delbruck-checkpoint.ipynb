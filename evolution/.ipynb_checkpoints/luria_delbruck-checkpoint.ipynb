{
 "cells": [
  {
   "cell_type": "markdown",
   "metadata": {},
   "source": [
    "# Simulation of the Luria-Delbrück Experiment"
   ]
  },
  {
   "cell_type": "markdown",
   "metadata": {},
   "source": [
    "(c) 2016 Griffin Chure. This work is licensed under a [Creative Commons Attribution License CC-BY 4.0](https://creativecommons.org/licenses/by/4.0/). All code contained herein is licensed under an [MIT license](https://opensource.org/licenses/MIT)"
   ]
  },
  {
   "cell_type": "code",
   "execution_count": 9,
   "metadata": {
    "collapsed": false
   },
   "outputs": [],
   "source": [
    "import numpy as np\n",
    "import scipy.stats\n",
    "import matplotlib.pyplot as plt\n",
    "import seaborn as sns\n",
    "sns.set_context('notebook')\n",
    "%matplotlib inline"
   ]
  },
  {
   "cell_type": "markdown",
   "metadata": {},
   "source": [
    "## Adaptive mutation"
   ]
  },
  {
   "cell_type": "markdown",
   "metadata": {},
   "source": [
    "In this model, a certion proportion of cells will mutate upon exposure to some toxic substance (i.e. antibiotic) and will become resistant. This mutaiton will only be experienced by that cell and the trait will not be passed to others in the population. To begin wthe simulation, we will first define some necessary parameters. For the case of the adaptive immunity, we'll have to ddfine the rate at which the cells will mutate, the total number of cells in the population, and the number of simulations to run."
   ]
  },
  {
   "cell_type": "code",
   "execution_count": 10,
   "metadata": {
    "collapsed": false
   },
   "outputs": [],
   "source": [
    "# Define some of the simulation parameters\n",
    "n_sim = 1000\n",
    "n0_cells = 100\n",
    "n_gen = 10 \n",
    "total_cells = n0_cells * 2**n_gen\n",
    "mut_rate = 1E-5  # Probability of a cell mutating under a selection pressure"
   ]
  },
  {
   "cell_type": "markdown",
   "metadata": {},
   "source": [
    "Since we won't have to worry about tracking which cells have already mutated, we can simply flip a coin for each cell immediately before being exposed to selection. If the cell is lucky, it will mutate and fufill its biological duty. If not, oh well. To do the simulation, we simply have to iterate through each cell in each of our simulations and draw a random number. If the random number is below that which we defined as the `mut_rate`, we will count it as a mutated cell. "
   ]
  },
  {
   "cell_type": "code",
   "execution_count": 11,
   "metadata": {
    "collapsed": true
   },
   "outputs": [],
   "source": [
    "# Make an empty vector to store the number of mutants in each simulation.\n",
    "adap_muts = np.empty(n_sim)\n",
    "for i in range(n_sim):    \n",
    "    # Flip a coin for each cell\n",
    "    flips = np.random.rand(total_cells)\n",
    "    \n",
    "    # Sum the number of mutants.\n",
    "    adap_muts[i] = np.sum(flips < mut_rate)  "
   ]
  },
  {
   "cell_type": "markdown",
   "metadata": {},
   "source": [
    "That's it! We've simulated an experiment `1000` times. How should we examine the distribution? Let's make a histogram of the number of mutants in each simulation."
   ]
  },
  {
   "cell_type": "code",
   "execution_count": 21,
   "metadata": {
    "collapsed": false
   },
   "outputs": [
    {
     "data": {
      "text/plain": [
       "<matplotlib.text.Text at 0x120647198>"
      ]
     },
     "execution_count": 21,
     "metadata": {},
     "output_type": "execute_result"
    },
    {
     "data": {
      "image/png": "[encoded data removed]",
      "text/plain": [
       "<matplotlib.figure.Figure at 0x1205f8390>"
      ]
     },
     "metadata": {},
     "output_type": "display_data"
    }
   ],
   "source": [
    "# Generate the histogram of mutants.\n",
    "_ = plt.hist(adap_muts, bins=6)\n",
    "plt.xlabel('number of mutants')\n",
    "plt.ylabel('counts')\n",
    "plt.title('adaptive immunity hypothesis')"
   ]
  },
  {
   "cell_type": "markdown",
   "metadata": {},
   "source": [
    "That's a pretty narrrow distribution! At most, it looks like we sonly have 5 - 6 mutants throughout the whole simulation. The most telling way to examine the properties of the distribution is to look at some of the statistics. If mutation were truly random and adaptive, one would expect a binomial distribution of mutants given a large number of cells and a low mutation rate. We can tell through the statistics of the binomial distribution that the variance divided by the mean (known as the Fano factor) should be unity. Let's compute the mean, variance, and Fano factor of our distribution to assess whether it is binomial. "
   ]
  },
  {
   "cell_type": "code",
   "execution_count": 22,
   "metadata": {
    "collapsed": false
   },
   "outputs": [
    {
     "name": "stdout",
     "output_type": "stream",
     "text": [
      "\n",
      "For the adaptive case....\n",
      "-------------------------\n",
      "The mean number of mutants is 1.004.\n",
      "The variance in number of mutants is 0.902.\n",
      "The Fano factor (variance / mean) is 0.898.\n",
      "\n"
     ]
    }
   ],
   "source": [
    "# Print some statistics.\n",
    "adap_mean = np.mean(adap_muts)\n",
    "adap_var = np.var(adap_muts)\n",
    "adap_fano = adap_var / adap_mean\n",
    "\n",
    "print(\"\"\"\n",
    "For the adaptive case....\n",
    "-------------------------\n",
    "The mean number of mutants is {0:.3f}.\n",
    "The variance in number of mutants is {1:.3f}.\n",
    "The Fano factor (variance / mean) is {2:.3f}.\n",
    "\"\"\".format(adap_mean, adap_var, adap_fano))"
   ]
  },
  {
   "cell_type": "markdown",
   "metadata": {},
   "source": [
    "We see that the Fano factor is very close to one and there are very few mutants. How does this change for the acquired immunity case?"
   ]
  },
  {
   "cell_type": "markdown",
   "metadata": {},
   "source": [
    "## Acquired Immunity"
   ]
  },
  {
   "cell_type": "markdown",
   "metadata": {},
   "source": [
    " Under the acquired immunity case, we have to be a little more careful. In this model, cells can mutate at **any point** in the growth of the culture. Cultures which happen to have a mutation early on their growth (known as a 'jackpot') will have a very large number of mutants by the end of the growth. If this model were true, we would expect that our distribution would have *very* long tails and therefore, a Fano factor much greater than one. To write this simulation, we'll need some way to track whether cells have been mutated or not, so we will have to loop through each generation as well. "
   ]
  },
  {
   "cell_type": "code",
   "execution_count": 23,
   "metadata": {
    "collapsed": false
   },
   "outputs": [],
   "source": [
    "acq_muts = np.empty(n_sim)\n",
    "for i in range(n_sim):\n",
    "    # Generate an initial vector of cells\n",
    "    cells = np.zeros(n0_cells)\n",
    "   \n",
    "    # Loop through each generation \n",
    "    for j in range(n_gen):\n",
    "        \n",
    "        # Make the new cells\n",
    "        daughters = np.copy(cells)\n",
    "        \n",
    "        # Flip coins to figure out who has mutated\n",
    "        new_muts = np.random.rand(len(cells)) < mut_rate\n",
    "        \n",
    "        # Check if the parent cell is mutated. If it is, adding the two vectors\n",
    "        # will create a value > 0.\n",
    "        daughters = (daughters + new_muts) > 0\n",
    "        \n",
    "        # Merge the daughers and the mothers into one vector to start over. \n",
    "        cells = np.concatenate((daughters, cells))\n",
    "        \n",
    "    # Determine the number of mutants for each simulation.  \n",
    "    acq_muts[i] = np.sum(cells) "
   ]
  },
  {
   "cell_type": "markdown",
   "metadata": {},
   "source": [
    "Again, the best way to assess the distribution is to take a look at it and print out some statistics."
   ]
  },
  {
   "cell_type": "code",
   "execution_count": 24,
   "metadata": {
    "collapsed": false
   },
   "outputs": [
    {
     "name": "stdout",
     "output_type": "stream",
     "text": [
      "\n",
      "For the acquired immunity case....\n",
      "----------------------------------\n",
      "The mean number of mutants is 4.967.\n",
      "The variance in number of mutants is 642.212.\n",
      "The Fano factor (variance/mean) is 129.296.\n",
      "\n"
     ]
    },
    {
     "data": {
      "image/png": "[encoded data removed]",
      "text/plain": [
       "<matplotlib.figure.Figure at 0x12063ab38>"
      ]
     },
     "metadata": {},
     "output_type": "display_data"
    }
   ],
   "source": [
    "# Generate the histogram.\n",
    "_ = plt.hist(acq_muts, bins=100)\n",
    "plt.xlabel('number of mutants')\n",
    "plt.ylabel('counts')\n",
    "plt.title('acquired immunity hypothesis')\n",
    "\n",
    "# Print out the statistics.\n",
    "acq_mean = np.mean(acq_muts)\n",
    "acq_var = np.var(acq_muts)\n",
    "acq_fano = acq_var / acq_mean\n",
    "print(\"\"\"\n",
    "For the acquired immunity case....\n",
    "----------------------------------\n",
    "The mean number of mutants is {0:.3f}.\n",
    "The variance in number of mutants is {1:.3f}.\n",
    "The Fano factor (variance/mean) is {2:.3f}.\n",
    "\"\"\".format(acq_mean, acq_var, acq_fano))\n",
    "\n"
   ]
  },
  {
   "cell_type": "markdown",
   "metadata": {},
   "source": [
    "Wow! That is a huge Fano factor, which is exactly what we would have predicted. "
   ]
  },
  {
   "cell_type": "markdown",
   "metadata": {},
   "source": [
    "##  Optimized functions."
   ]
  },
  {
   "cell_type": "code",
   "execution_count": 16,
   "metadata": {
    "collapsed": false
   },
   "outputs": [
    {
     "name": "stdout",
     "output_type": "stream",
     "text": [
      "0.980954296161\n"
     ]
    }
   ],
   "source": [
    "fast_muts = np.sum(np.random.rand(n_sim, total_cells) < mut_rate, axis=1)\n",
    "var_fast = np.var(fast_muts)\n",
    "mean_fast = np.mean(fast_muts)\n",
    "fano_fast = var_fast / mean_fast\n",
    "print(fano_fast)"
   ]
  },
  {
   "cell_type": "code",
   "execution_count": 17,
   "metadata": {
    "collapsed": false
   },
   "outputs": [
    {
     "data": {
      "image/png": "[encoded data removed]",
      "text/plain": [
       "<matplotlib.figure.Figure at 0x116d2e550>"
      ]
     },
     "metadata": {},
     "output_type": "display_data"
    }
   ],
   "source": [
    "_ = plt.hist(fast_muts, bins=6)"
   ]
  },
  {
   "cell_type": "markdown",
   "metadata": {},
   "source": [
    "##  Acquired immunity case"
   ]
  },
  {
   "cell_type": "code",
   "execution_count": 18,
   "metadata": {
    "collapsed": false
   },
   "outputs": [],
   "source": [
    "acq_vec = np.zeros(n_sim)\n",
    "for i in range(n_gen):\n",
    "    new_muts = np.sum(np.random.rand(n_sim, n0_cells * 2**i) < mut_rate, axis=1)\n",
    "    acq_vec[acq_vec == 0] += new_muts[acq_vec == 0]\n",
    "    acq_vec[acq_vec > 0]  *= 2 "
   ]
  },
  {
   "cell_type": "code",
   "execution_count": 19,
   "metadata": {
    "collapsed": false
   },
   "outputs": [
    {
     "name": "stdout",
     "output_type": "stream",
     "text": [
      "200.718829048\n"
     ]
    },
    {
     "data": {
      "image/png": "[encoded data removed]",
      "text/plain": [
       "<matplotlib.figure.Figure at 0x116e8d7f0>"
      ]
     },
     "metadata": {},
     "output_type": "display_data"
    }
   ],
   "source": [
    "_ = plt.hist(acq_vec, bins=100)\n",
    "fast_acq_var = np.var(acq_vec)\n",
    "fast_acq_mean = np.mean(acq_vec)\n",
    "print(fast_acq_var / fast_acq_mean)"
   ]
  },
  {
   "cell_type": "code",
   "execution_count": null,
   "metadata": {
    "collapsed": true
   },
   "outputs": [],
   "source": []
  }
 ],
 "metadata": {
  "kernelspec": {
   "display_name": "Python 3",
   "language": "python",
   "name": "python3"
  },
  "language_info": {
   "codemirror_mode": {
    "name": "ipython",
    "version": 3
   },
   "file_extension": ".py",
   "mimetype": "text/x-python",
   "name": "python",
   "nbconvert_exporter": "python",
   "pygments_lexer": "ipython3",
   "version": "3.4.5"
  }
 },
 "nbformat": 4,
 "nbformat_minor": 1
}
