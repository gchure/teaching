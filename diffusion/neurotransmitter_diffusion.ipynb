{
 "cells": [
  {
   "cell_type": "markdown",
   "metadata": {},
   "source": [
    "#  Diffusion II: Neurotransmission"
   ]
  },
  {
   "cell_type": "markdown",
   "metadata": {},
   "source": [
    "(c) 2016 Griffin Chure. This work is licensed under a [Creative Commons Attribution License CC-BY 4.0](https://creativecommons.org/licenses/by/4.0/). All code contained herein is licensed under an [MIT license](https://opensource.org/licenses/MIT)."
   ]
  },
  {
   "cell_type": "code",
   "execution_count": 2,
   "metadata": {
    "collapsed": false
   },
   "outputs": [],
   "source": [
    "import numpy as np\n",
    "import matplotlib.pyplot as plt\n",
    "import seaborn as sns\n",
    "sns.set_context('notebook')\n",
    "%matplotlib inline"
   ]
  },
  {
   "cell_type": "markdown",
   "metadata": {},
   "source": [
    "How long does it take a neurotransimtter to diffuse across a synaptic cleft? While we can analytically solve for the first passage time with some knowledge of the physics, we can also simulate it as a simple one-dimensional random walk. We can model the synapse as a box with a reflective barrier (transmittine neuron) and an absorpitve barrier (receptor). In our model, the neurotransmitter can't travel pas teither barrier. If it is at teh reflective barrier, it can only travel forward one step size. If it is at the absorbing barrier, the walk is over!\n",
    "\n",
    "\n",
    "Before we can begin the simulation, we need to first define some parameters of our simulation."
   ]
  },
  {
   "cell_type": "code",
   "execution_count": 26,
   "metadata": {
    "collapsed": true
   },
   "outputs": [],
   "source": [
    "# Define some parameter values.\n",
    "synapse_length = 20  # in units of steps.\n",
    "n_sim = 100000 \n",
    "step_length = 1"
   ]
  },
  {
   "cell_type": "code",
   "execution_count": 27,
   "metadata": {
    "collapsed": false
   },
   "outputs": [],
   "source": [
    "num_steps = np.zeros(n_sim)\n",
    "for i in range(n_sim):\n",
    "    \n",
    "    # Set up a step counter.\n",
    "    sim_steps = 0\n",
    "    curr_pos = 0\n",
    "   \n",
    "    # So long as we haven't hit the receptor...\n",
    "    while  num_steps[i] == 0:\n",
    "        \n",
    "        # Make sure we haven't stepped beyond the transmitting neuron.\n",
    "        if curr_pos < 0:\n",
    "            curr_pos = 0\n",
    "        elif curr_pos == synapse_length:\n",
    "            num_steps[i] = sim_steps\n",
    "            break\n",
    "        else:\n",
    "            flip = np.random.rand()\n",
    "            if flip > 0.5:\n",
    "                curr_pos += step_length\n",
    "            else:\n",
    "                curr_pos -= step_length\n",
    "            sim_steps += 1  "
   ]
  },
  {
   "cell_type": "markdown",
   "metadata": {},
   "source": [
    "We can (and should) convert the  number of steps to time, as that is what is physiologically meaningful. We can make an order-of-magnitude estimate that the diffusion constant ($D$) of a small organic molecule such as dopamine to be on the order of $\\sim 5 cm^2 / s$. We know that from Fick's law of diffusion, the time to diffuse a given distance is\n",
    "$$\n",
    "t \\approx \\frac{x^2}{2D}\n",
    "$$ \n",
    "where $x$ is the distance of interest and $t$ is time. Note that the prefactor of $2$ is for a one-dimensional random walk. In our simulation, the time to diffuse $1\\, nm$ (a single step) is therefore\n",
    "$$\n",
    "t \\approx \\frac{1}{2D} \\approx 1\\mu s.\n",
    "$$\n",
    "\n",
    "Since this is approximately 1µs, we can just use our `num_steps` vector as our time in units of µs. Let's plot the result of our situation and compute the confidence interval."
   ]
  },
  {
   "cell_type": "code",
   "execution_count": 29,
   "metadata": {
    "collapsed": false
   },
   "outputs": [
    {
     "name": "stdout",
     "output_type": "stream",
     "text": [
      "\n",
      "The mean first-passage time is 419.90 µs.\n",
      "The 2.5 percentile is 1339.00 µs.\n",
      "The 97.5 percentile is  68.00 µs.\n",
      "\n"
     ]
    },
    {
     "data": {
      "image/png": "[encoded data removed]",
      "text/plain": [
       "<matplotlib.figure.Figure at 0x11b991b00>"
      ]
     },
     "metadata": {},
     "output_type": "display_data"
    }
   ],
   "source": [
    "# Plot the distribution.\n",
    "_ = plt.hist(num_steps, bins=100)\n",
    "plt.xlabel('time (µs)')\n",
    "plt.ylabel('counts')\n",
    "\n",
    "# Print the confidence interval and mean.\n",
    "conf_int = np.percentile(num_steps, (2.5, 97.5))\n",
    "mean_time = np.mean(num_steps)\n",
    "print(\"\"\"\n",
    "The mean first-passage time is {0:.2f} µs.\n",
    "The 2.5 percentile is {1:.2f} µs.\n",
    "The 97.5 percentile is  {2:.2f} µs.\n",
    "\"\"\".format(mean_time, conf_int[1], conf_int[0]))"
   ]
  }
 ],
 "metadata": {
  "kernelspec": {
   "display_name": "Python 3",
   "language": "python",
   "name": "python3"
  },
  "language_info": {
   "codemirror_mode": {
    "name": "ipython",
    "version": 3
   },
   "file_extension": ".py",
   "mimetype": "text/x-python",
   "name": "python",
   "nbconvert_exporter": "python",
   "pygments_lexer": "ipython3",
   "version": "3.4.5"
  }
 },
 "nbformat": 4,
 "nbformat_minor": 1
}
