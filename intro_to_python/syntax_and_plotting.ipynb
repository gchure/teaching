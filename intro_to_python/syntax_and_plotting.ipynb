{
 "cells": [
  {
   "cell_type": "markdown",
   "metadata": {},
   "source": [
    "# An introduction to Python syntax and plotting"
   ]
  },
  {
   "cell_type": "markdown",
   "metadata": {
    "collapsed": true
   },
   "source": [
    "(c) 2016 Griffin Chure. This work is licensed under a [Creative Commons Attribution License CC-BY 4.0](https://creativecommons.org/licenses/by/4.0/). All code contained herein is licensed under an [MIT license](https://opensource.org/licenses/MIT)  "
   ]
  },
  {
   "cell_type": "markdown",
   "metadata": {},
   "source": [
    "--- "
   ]
  },
  {
   "cell_type": "markdown",
   "metadata": {},
   "source": [
    "In this tutorial, we will learn some of the basics of programming in Python. While this will all become muscle memory, it's useful to keep this as a reference. "
   ]
  },
  {
   "cell_type": "markdown",
   "metadata": {},
   "source": [
    "## `Hello, world` "
   ]
  },
  {
   "cell_type": "markdown",
   "metadata": {},
   "source": [
    "As is typical when learning any programming language, we'll start by making our computer speak to us. We'll do this by using one of the [many standard functions in Python](https://docs.python.org/3/library/functions.html), the `print` function.  "
   ]
  },
  {
   "cell_type": "code",
   "execution_count": 2,
   "metadata": {
    "collapsed": false
   },
   "outputs": [
    {
     "name": "stdout",
     "output_type": "stream",
     "text": [
      "Hello, world\n"
     ]
    }
   ],
   "source": [
    "print('Hello, world')"
   ]
  },
  {
   "cell_type": "markdown",
   "metadata": {},
   "source": [
    "In the above code, we called the `print` function and passed the text `Hello, world.` surrounded by single quotation marks `''`. The text was passed as an **argument** to the `print` **function** by placing it in the parentheses. The quotation marks determined the **type** of the argument to be text, known as a **string**. While we used single quotations in the above code, we could also use double quotations `\"\"`. These are exchangeable in Python.\n",
    "\n",
    "While our `'Hello, world.'` is a string, this function can also be used to print other types such as integers (**int**s), decimals (**float**s), and `True/False` (**bool**ean) by passing them as arguments to the `print` function. "
   ]
  },
  {
   "cell_type": "code",
   "execution_count": 6,
   "metadata": {
    "collapsed": false
   },
   "outputs": [
    {
     "name": "stdout",
     "output_type": "stream",
     "text": [
      "10\n",
      "3.14159\n",
      "True\n"
     ]
    }
   ],
   "source": [
    "print(10)\n",
    "print(3.14159)\n",
    "print(True)"
   ]
  },
  {
   "cell_type": "code",
   "execution_count": null,
   "metadata": {
    "collapsed": true
   },
   "outputs": [],
   "source": []
  },
  {
   "cell_type": "markdown",
   "metadata": {},
   "source": [
    "### Assigning variables"
   ]
  },
  {
   "cell_type": "markdown",
   "metadata": {},
   "source": [
    "## Basic math "
   ]
  },
  {
   "cell_type": "markdown",
   "metadata": {},
   "source": [
    "###  Arithmetic "
   ]
  },
  {
   "cell_type": "markdown",
   "metadata": {},
   "source": [
    "### Assigning variables "
   ]
  },
  {
   "cell_type": "markdown",
   "metadata": {},
   "source": [
    "###  Arrays and lists"
   ]
  },
  {
   "cell_type": "markdown",
   "metadata": {},
   "source": [
    "##  Functions"
   ]
  },
  {
   "cell_type": "markdown",
   "metadata": {},
   "source": [
    "Functions are the most important component of efficient and effective programming. Functions are sections of code that are written to take an argument, perform some manipulation, and return the manipulated argument. In Python, these functions can be written in the same script where you want to use them.\n",
    "\n",
    "In Python, spacing and indentation matters (this is why we set our Tab settings in the Atom text editor). When we define a function and perform looping, we have to be very aware of where our code exists in the script. Once you define a function, all\n",
    "\n",
    "The best way to learn is by doing. Let's write a function to add two strings together. We'll also have this function print out the final string if we tell it to."
   ]
  },
  {
   "cell_type": "code",
   "execution_count": 33,
   "metadata": {
    "collapsed": true
   },
   "outputs": [],
   "source": [
    "def adding_machine(value_1, value_2, print_value=True):\n",
    "    \"\"\"\n",
    "    Adds together value_1 with value_2. If `print_value` is True,\n",
    "    the resulting value will be printed to the screen.\n",
    "    \"\"\"\n",
    "    \n",
    "    # Merge the strings together.\n",
    "    added_values = value_1 + value_2 \n",
    "    \n",
    "    # Determine if the new string should be printed. \n",
    "    if print_value == True:\n",
    "        print(added_values)\n",
    "        \n",
    "    # Return the smashed string.\n",
    "    return added_values"
   ]
  },
  {
   "cell_type": "markdown",
   "metadata": {},
   "source": [
    "We did a lot of complicated procedures in this code, so let's go through it piece by piece.\n",
    "\n",
    "1. We **def**ined the function as `adding_machine` which takes the arguments `value_1` and `value_2` as well as a keyword argument `print_value` which has a default value of `True`.\n",
    "2. We wrote some information about the what the function does and what arguments it takes.\n",
    "3. We then performed the operation by adding together `value_1` and `value_2` and assigning it to a new variable called `added_values`.\n",
    "4. We tested if the function should print the resut to the string. We did this by using an `if` statement. This tested **`if`** `print_value` was equal to `True`. If it that was the case, the `print` function was called and printed the value of `added_values`.\n",
    "5. The variable `added_values` is returned and the function call ends. \n",
    "\n",
    "Note that we were never specific about *what* `value_1` and what `value_2` are. These could be floats, ints, or even strings. Let's give it a shot with a few values."
   ]
  },
  {
   "cell_type": "code",
   "execution_count": 36,
   "metadata": {
    "collapsed": false
   },
   "outputs": [
    {
     "name": "stdout",
     "output_type": "stream",
     "text": [
      "12\n",
      "2.09\n",
      "Python Rules\n",
      "12 2.09 Python Rules\n"
     ]
    }
   ],
   "source": [
    "# Add some various values together.\n",
    "x = adding_machine(10, 2) \n",
    "y = adding_machine(1.01, 1.08)\n",
    "z = adding_machine('Python', ' Rules')\n",
    "\n",
    "# Print the variables we assigned them to.\n",
    "print(x, y, z)"
   ]
  },
  {
   "cell_type": "markdown",
   "metadata": {},
   "source": [
    "Since we added the automatic printing of values as a **keyword argument**, we can easily tell our function to stop printing things.  "
   ]
  },
  {
   "cell_type": "code",
   "execution_count": 37,
   "metadata": {
    "collapsed": false
   },
   "outputs": [
    {
     "name": "stdout",
     "output_type": "stream",
     "text": [
      "12 2.09 Python Rules\n"
     ]
    }
   ],
   "source": [
    "# Add some various values together.\n",
    "x = adding_machine(10, 2, print_value=False) \n",
    "y = adding_machine(1.01, 1.08, print_value=False)\n",
    "z = adding_machine('Python', ' Rules', print_value=False)\n",
    "\n",
    "# Print the variables we assigned them to.\n",
    "print(x, y, z)"
   ]
  },
  {
   "cell_type": "markdown",
   "metadata": {},
   "source": [
    "While this function was very simple (and frankly unnecessary), being able to write functions to automate tasks will be very valuable in the future $--$ especially when we start working with images. "
   ]
  },
  {
   "cell_type": "markdown",
   "metadata": {},
   "source": [
    "## Importing modules "
   ]
  },
  {
   "cell_type": "code",
   "execution_count": 11,
   "metadata": {
    "collapsed": true
   },
   "outputs": [],
   "source": [
    "import numpy as np"
   ]
  },
  {
   "cell_type": "markdown",
   "metadata": {},
   "source": [
    "##  Our first `for` loop"
   ]
  },
  {
   "cell_type": "markdown",
   "metadata": {},
   "source": [
    "Rather than using \"boring\" simple operations to learn some syntax, let's learn about the `for` loop by using a biological example. \n",
    "\n",
    "Let's say that we have a cell sitting in a tube of growth medium. If we place this tube at the right temperature, the cells will grow exponentially. We can write down a very simple model that as long as the cells are well below the carrying capacity of their environment, they will grow as \n",
    "$$\n",
    "N(d) = 2^{d},\n",
    "$$\n",
    "where $N(d)$ is the number of cells at division $d$. To test this model, we'll write a very short simulation to test that the a cell would grow exponentially. \n",
    "\n",
    "Before we think of any specific "
   ]
  },
  {
   "cell_type": "code",
   "execution_count": 24,
   "metadata": {
    "collapsed": false
   },
   "outputs": [
    {
     "name": "stdout",
     "output_type": "stream",
     "text": [
      "[1, 2, 4, 8, 16, 32, 64, 128, 256, 512, 1024]\n"
     ]
    }
   ],
   "source": [
    "N_t = [1,]\n",
    "number_of_divisions = 10\n",
    "\n",
    "number_of_cells = 1\n",
    "for i in range(number_of_divisions):\n",
    "    N_t.append(number_of_cells * 2)\n",
    "    number_of_cells = number_of_cells * 2\n",
    "    \n",
    "print(N_t)\n",
    "    "
   ]
  },
  {
   "cell_type": "markdown",
   "metadata": {},
   "source": [
    "## Plotting using `matplotlib`"
   ]
  },
  {
   "cell_type": "code",
   "execution_count": 25,
   "metadata": {
    "collapsed": false
   },
   "outputs": [],
   "source": [
    "import matplotlib.pyplot as plt\n",
    "import seaborn as sns\n",
    "%matplotlib inline"
   ]
  },
  {
   "cell_type": "code",
   "execution_count": 29,
   "metadata": {
    "collapsed": false
   },
   "outputs": [
    {
     "name": "stdout",
     "output_type": "stream",
     "text": [
      "11\n"
     ]
    },
    {
     "data": {
      "text/plain": [
       "<matplotlib.legend.Legend at 0x119ffc128>"
      ]
     },
     "execution_count": 29,
     "metadata": {},
     "output_type": "execute_result"
    },
    {
     "data": {
      "image/png": "[encoded data removed]",
      "text/plain": [
       "<matplotlib.figure.Figure at 0x11a448240>"
      ]
     },
     "metadata": {},
     "output_type": "display_data"
    }
   ],
   "source": [
    "simulation_time = np.arange(0, number_of_divisions + 1, 1)\n",
    "prediction_time = np.linspace(0, number_of_divisions + 1, 200)\n",
    "print(len(time))\n",
    "\n",
    "plt.plot(simulation_time, N_t, 'o', label='simulated points')\n",
    "plt.plot(prediction_time, 2**time, '-', label='prediction')\n",
    "plt.xlabel('number of divisions')\n",
    "plt.ylabel('number of cells')\n",
    "plt.legend()"
   ]
  },
  {
   "cell_type": "code",
   "execution_count": null,
   "metadata": {
    "collapsed": true
   },
   "outputs": [],
   "source": []
  }
 ],
 "metadata": {
  "kernelspec": {
   "display_name": "Python 3",
   "language": "python",
   "name": "python3"
  },
  "language_info": {
   "codemirror_mode": {
    "name": "ipython",
    "version": 3
   },
   "file_extension": ".py",
   "mimetype": "text/x-python",
   "name": "python",
   "nbconvert_exporter": "python",
   "pygments_lexer": "ipython3",
   "version": "3.4.5"
  }
 },
 "nbformat": 4,
 "nbformat_minor": 1
}
